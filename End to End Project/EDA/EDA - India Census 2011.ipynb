{
 "cells": [
  {
   "cell_type": "markdown",
   "id": "27ef3ad8",
   "metadata": {},
   "source": [
    "# EDA of India Census 2011 Dateset"
   ]
  },
  {
   "cell_type": "markdown",
   "id": "b95f2e71",
   "metadata": {},
   "source": [
    "Exploratory Data Analysis refers to the critical process of performing initial investigations on data so as to discover patterns,to spot anomalies,to test hypothesis and to check assumptions with the help of summary statistics and graphical representations."
   ]
  },
  {
   "cell_type": "markdown",
   "id": "d6334a9d",
   "metadata": {},
   "source": [
    "# Importing Libraries"
   ]
  },
  {
   "cell_type": "code",
   "execution_count": 1,
   "id": "3ce1967e",
   "metadata": {},
   "outputs": [],
   "source": [
    "import pandas as pd\n",
    "import numpy as np\n",
    "import matplotlib.pyplot as plt\n",
    "import seaborn as sns\n",
    "%matplotlib inline"
   ]
  },
  {
   "cell_type": "markdown",
   "id": "90fdeea0",
   "metadata": {},
   "source": [
    "# MySQL connection with Python"
   ]
  },
  {
   "cell_type": "code",
   "execution_count": 2,
   "id": "b3bf26f5",
   "metadata": {},
   "outputs": [
    {
     "name": "stdout",
     "output_type": "stream",
     "text": [
      "<mysql.connector.connection_cext.CMySQLConnection object at 0x000001FFEA7DADF0>\n"
     ]
    }
   ],
   "source": [
    "import mysql.connector as mysql_py_connector\n",
    "\n",
    "connection=mysql_py_connector.connect(\n",
    " host=\"localhost\",\n",
    " user=\"root\",\n",
    " password=\"Sql@246324\"\n",
    ")\n",
    "print(connection)"
   ]
  },
  {
   "cell_type": "markdown",
   "id": "9cfb4955",
   "metadata": {},
   "source": [
    "# Checking conection with MySQL"
   ]
  },
  {
   "cell_type": "code",
   "execution_count": 3,
   "id": "e7d32b10",
   "metadata": {},
   "outputs": [],
   "source": [
    "cursor=connection.cursor()"
   ]
  },
  {
   "cell_type": "code",
   "execution_count": 4,
   "id": "aa3fd9b2",
   "metadata": {},
   "outputs": [],
   "source": [
    "cursor.execute(\"select sum(population) from Indian_Census_2011.census_data_1 \")"
   ]
  },
  {
   "cell_type": "code",
   "execution_count": 5,
   "id": "2ed531cb",
   "metadata": {},
   "outputs": [
    {
     "name": "stdout",
     "output_type": "stream",
     "text": [
      "(Decimal('1210854977'),)\n"
     ]
    }
   ],
   "source": [
    "for i in cursor:\n",
    "    print(i)"
   ]
  },
  {
   "cell_type": "markdown",
   "id": "1230b222",
   "metadata": {},
   "source": [
    "# Using Pandas to read tables from MySQL Database"
   ]
  },
  {
   "cell_type": "code",
   "execution_count": 6,
   "id": "321a7e45",
   "metadata": {},
   "outputs": [
    {
     "name": "stderr",
     "output_type": "stream",
     "text": [
      "C:\\Users\\LENOVO\\anaconda3\\lib\\site-packages\\pandas\\io\\sql.py:761: UserWarning: pandas only support SQLAlchemy connectable(engine/connection) ordatabase string URI or sqlite3 DBAPI2 connectionother DBAPI2 objects are not tested, please consider using SQLAlchemy\n",
      "  warnings.warn(\n"
     ]
    },
    {
     "data": {
      "text/html": [
       "<div>\n",
       "<style scoped>\n",
       "    .dataframe tbody tr th:only-of-type {\n",
       "        vertical-align: middle;\n",
       "    }\n",
       "\n",
       "    .dataframe tbody tr th {\n",
       "        vertical-align: top;\n",
       "    }\n",
       "\n",
       "    .dataframe thead th {\n",
       "        text-align: right;\n",
       "    }\n",
       "</style>\n",
       "<table border=\"1\" class=\"dataframe\">\n",
       "  <thead>\n",
       "    <tr style=\"text-align: right;\">\n",
       "      <th></th>\n",
       "      <th>District_code</th>\n",
       "      <th>State_name</th>\n",
       "      <th>District_name</th>\n",
       "      <th>Population</th>\n",
       "      <th>Male</th>\n",
       "      <th>Female</th>\n",
       "      <th>Literate</th>\n",
       "      <th>Male_Literate</th>\n",
       "      <th>Female_Literate</th>\n",
       "      <th>SC</th>\n",
       "      <th>...</th>\n",
       "      <th>Age_Group_30_49</th>\n",
       "      <th>Age_Group_50</th>\n",
       "      <th>Age_not_stated</th>\n",
       "      <th>District_code</th>\n",
       "      <th>State_name</th>\n",
       "      <th>District_name</th>\n",
       "      <th>Type_of_bathing_facility_Enclosure_without_roof</th>\n",
       "      <th>Not_having_bathing_facility_within_the_premises</th>\n",
       "      <th>Not_having_latrine_facility_within_the_premises</th>\n",
       "      <th>Main_source_of_drinking_water_Un_covered_well</th>\n",
       "    </tr>\n",
       "  </thead>\n",
       "  <tbody>\n",
       "    <tr>\n",
       "      <th>0</th>\n",
       "      <td>1</td>\n",
       "      <td>JAMMU_AND_KASHMIR</td>\n",
       "      <td>Kupwara</td>\n",
       "      <td>870354</td>\n",
       "      <td>474190</td>\n",
       "      <td>396164</td>\n",
       "      <td>439654</td>\n",
       "      <td>282823</td>\n",
       "      <td>156831</td>\n",
       "      <td>1048</td>\n",
       "      <td>...</td>\n",
       "      <td>178435</td>\n",
       "      <td>89679</td>\n",
       "      <td>1481</td>\n",
       "      <td>1</td>\n",
       "      <td>JAMMU_AND_KASHMIR</td>\n",
       "      <td>Kupwara</td>\n",
       "      <td>3667</td>\n",
       "      <td>40416</td>\n",
       "      <td>44123</td>\n",
       "      <td>11127</td>\n",
       "    </tr>\n",
       "    <tr>\n",
       "      <th>1</th>\n",
       "      <td>2</td>\n",
       "      <td>JAMMU_AND_KASHMIR</td>\n",
       "      <td>Badgam</td>\n",
       "      <td>753745</td>\n",
       "      <td>398041</td>\n",
       "      <td>355704</td>\n",
       "      <td>335649</td>\n",
       "      <td>207741</td>\n",
       "      <td>127908</td>\n",
       "      <td>368</td>\n",
       "      <td>...</td>\n",
       "      <td>160933</td>\n",
       "      <td>88978</td>\n",
       "      <td>611</td>\n",
       "      <td>2</td>\n",
       "      <td>JAMMU_AND_KASHMIR</td>\n",
       "      <td>Badgam</td>\n",
       "      <td>3959</td>\n",
       "      <td>15834</td>\n",
       "      <td>10642</td>\n",
       "      <td>699</td>\n",
       "    </tr>\n",
       "    <tr>\n",
       "      <th>2</th>\n",
       "      <td>3</td>\n",
       "      <td>JAMMU_AND_KASHMIR</td>\n",
       "      <td>Leh(Ladakh)</td>\n",
       "      <td>133487</td>\n",
       "      <td>78971</td>\n",
       "      <td>54516</td>\n",
       "      <td>93770</td>\n",
       "      <td>62834</td>\n",
       "      <td>30936</td>\n",
       "      <td>488</td>\n",
       "      <td>...</td>\n",
       "      <td>41515</td>\n",
       "      <td>21019</td>\n",
       "      <td>250</td>\n",
       "      <td>3</td>\n",
       "      <td>JAMMU_AND_KASHMIR</td>\n",
       "      <td>Leh(Ladakh)</td>\n",
       "      <td>920</td>\n",
       "      <td>10473</td>\n",
       "      <td>1781</td>\n",
       "      <td>64</td>\n",
       "    </tr>\n",
       "    <tr>\n",
       "      <th>3</th>\n",
       "      <td>4</td>\n",
       "      <td>JAMMU_AND_KASHMIR</td>\n",
       "      <td>Kargil</td>\n",
       "      <td>140802</td>\n",
       "      <td>77785</td>\n",
       "      <td>63017</td>\n",
       "      <td>86236</td>\n",
       "      <td>56301</td>\n",
       "      <td>29935</td>\n",
       "      <td>18</td>\n",
       "      <td>...</td>\n",
       "      <td>35561</td>\n",
       "      <td>17488</td>\n",
       "      <td>221</td>\n",
       "      <td>4</td>\n",
       "      <td>JAMMU_AND_KASHMIR</td>\n",
       "      <td>Kargil</td>\n",
       "      <td>330</td>\n",
       "      <td>6325</td>\n",
       "      <td>482</td>\n",
       "      <td>1</td>\n",
       "    </tr>\n",
       "    <tr>\n",
       "      <th>4</th>\n",
       "      <td>5</td>\n",
       "      <td>JAMMU_AND_KASHMIR</td>\n",
       "      <td>Punch</td>\n",
       "      <td>476835</td>\n",
       "      <td>251899</td>\n",
       "      <td>224936</td>\n",
       "      <td>261724</td>\n",
       "      <td>163333</td>\n",
       "      <td>98391</td>\n",
       "      <td>556</td>\n",
       "      <td>...</td>\n",
       "      <td>109818</td>\n",
       "      <td>61334</td>\n",
       "      <td>704</td>\n",
       "      <td>5</td>\n",
       "      <td>JAMMU_AND_KASHMIR</td>\n",
       "      <td>Punch</td>\n",
       "      <td>3421</td>\n",
       "      <td>69089</td>\n",
       "      <td>70470</td>\n",
       "      <td>17702</td>\n",
       "    </tr>\n",
       "  </tbody>\n",
       "</table>\n",
       "<p>5 rows × 61 columns</p>\n",
       "</div>"
      ],
      "text/plain": [
       "   District_code         State_name  District_name  Population    Male  \\\n",
       "0              1  JAMMU_AND_KASHMIR        Kupwara      870354  474190   \n",
       "1              2  JAMMU_AND_KASHMIR         Badgam      753745  398041   \n",
       "2              3  JAMMU_AND_KASHMIR    Leh(Ladakh)      133487   78971   \n",
       "3              4  JAMMU_AND_KASHMIR         Kargil      140802   77785   \n",
       "4              5  JAMMU_AND_KASHMIR          Punch      476835  251899   \n",
       "\n",
       "   Female  Literate  Male_Literate  Female_Literate    SC  ...  \\\n",
       "0  396164    439654         282823           156831  1048  ...   \n",
       "1  355704    335649         207741           127908   368  ...   \n",
       "2   54516     93770          62834            30936   488  ...   \n",
       "3   63017     86236          56301            29935    18  ...   \n",
       "4  224936    261724         163333            98391   556  ...   \n",
       "\n",
       "   Age_Group_30_49  Age_Group_50  Age_not_stated  District_code  \\\n",
       "0           178435         89679            1481              1   \n",
       "1           160933         88978             611              2   \n",
       "2            41515         21019             250              3   \n",
       "3            35561         17488             221              4   \n",
       "4           109818         61334             704              5   \n",
       "\n",
       "          State_name  District_name  \\\n",
       "0  JAMMU_AND_KASHMIR        Kupwara   \n",
       "1  JAMMU_AND_KASHMIR         Badgam   \n",
       "2  JAMMU_AND_KASHMIR    Leh(Ladakh)   \n",
       "3  JAMMU_AND_KASHMIR         Kargil   \n",
       "4  JAMMU_AND_KASHMIR          Punch   \n",
       "\n",
       "   Type_of_bathing_facility_Enclosure_without_roof  \\\n",
       "0                                             3667   \n",
       "1                                             3959   \n",
       "2                                              920   \n",
       "3                                              330   \n",
       "4                                             3421   \n",
       "\n",
       "   Not_having_bathing_facility_within_the_premises  \\\n",
       "0                                            40416   \n",
       "1                                            15834   \n",
       "2                                            10473   \n",
       "3                                             6325   \n",
       "4                                            69089   \n",
       "\n",
       "   Not_having_latrine_facility_within_the_premises  \\\n",
       "0                                            44123   \n",
       "1                                            10642   \n",
       "2                                             1781   \n",
       "3                                              482   \n",
       "4                                            70470   \n",
       "\n",
       "   Main_source_of_drinking_water_Un_covered_well  \n",
       "0                                          11127  \n",
       "1                                            699  \n",
       "2                                             64  \n",
       "3                                              1  \n",
       "4                                          17702  \n",
       "\n",
       "[5 rows x 61 columns]"
      ]
     },
     "execution_count": 6,
     "metadata": {},
     "output_type": "execute_result"
    }
   ],
   "source": [
    "full_data_query=\"select * from Indian_Census_2011.census_data_1 inner join Indian_Census_2011.census_data_2_ on Indian_Census_2011.census_data_1.District_code=Indian_Census_2011.census_data_2_.District_code \"\n",
    "df=pd.read_sql(full_data_query,connection)\n",
    "df.head()"
   ]
  },
  {
   "cell_type": "code",
   "execution_count": 7,
   "id": "14824f3f",
   "metadata": {},
   "outputs": [
    {
     "data": {
      "text/plain": [
       "(640, 61)"
      ]
     },
     "execution_count": 7,
     "metadata": {},
     "output_type": "execute_result"
    }
   ],
   "source": [
    "df.shape"
   ]
  },
  {
   "cell_type": "markdown",
   "id": "0d0a7e75",
   "metadata": {},
   "source": [
    "Conclusion:Datset  has 640 rows and 61 Columns"
   ]
  },
  {
   "cell_type": "code",
   "execution_count": 8,
   "id": "81c53f65",
   "metadata": {},
   "outputs": [
    {
     "data": {
      "text/plain": [
       "Index(['District_code', 'State_name', 'District_name', 'Population', 'Male',\n",
       "       'Female', 'Literate', 'Male_Literate', 'Female_Literate', 'SC',\n",
       "       'Male_SC', 'Female_SC', 'ST', 'Male_ST', 'Female_ST', 'Workers',\n",
       "       'Male_Workers', 'Female_Workers', 'Main_Workers', 'Marginal_Workers',\n",
       "       'Non_Workers', 'Cultivator_Workers', 'Agricultural_Workers',\n",
       "       'Household_Workers', 'Other_Workers', 'Hindus', 'Muslims', 'Christians',\n",
       "       'Sikhs', 'Buddhists', 'Jains', 'Others_Religions',\n",
       "       'Religion_Not_Stated', 'LPG_or_PNG_Households',\n",
       "       'Housholds_with_Electric_Lighting', 'Households_with_Internet',\n",
       "       'Households_with_Computer', 'Rural_Households', 'Urban_Households',\n",
       "       'Households', 'Below_Primary_Education', 'Primary_Education',\n",
       "       'Middle_Education', 'Secondary_Education', 'Higher_Education',\n",
       "       'Graduate_Education', 'Other_Education', 'Literate_Education',\n",
       "       'Illiterate_Education', 'Total_Education', 'Age_Group_0_29',\n",
       "       'Age_Group_30_49', 'Age_Group_50', 'Age_not_stated', 'District_code',\n",
       "       'State_name', 'District_name',\n",
       "       'Type_of_bathing_facility_Enclosure_without_roof',\n",
       "       'Not_having_bathing_facility_within_the_premises',\n",
       "       'Not_having_latrine_facility_within_the_premises',\n",
       "       'Main_source_of_drinking_water_Un_covered_well'],\n",
       "      dtype='object')"
      ]
     },
     "execution_count": 8,
     "metadata": {},
     "output_type": "execute_result"
    }
   ],
   "source": [
    "df.columns"
   ]
  },
  {
   "cell_type": "code",
   "execution_count": 9,
   "id": "6f33664b",
   "metadata": {},
   "outputs": [
    {
     "name": "stdout",
     "output_type": "stream",
     "text": [
      "<class 'pandas.core.frame.DataFrame'>\n",
      "RangeIndex: 640 entries, 0 to 639\n",
      "Data columns (total 61 columns):\n",
      " #   Column                                           Non-Null Count  Dtype \n",
      "---  ------                                           --------------  ----- \n",
      " 0   District_code                                    640 non-null    int64 \n",
      " 1   State_name                                       640 non-null    object\n",
      " 2   District_name                                    640 non-null    object\n",
      " 3   Population                                       640 non-null    int64 \n",
      " 4   Male                                             640 non-null    int64 \n",
      " 5   Female                                           640 non-null    int64 \n",
      " 6   Literate                                         640 non-null    int64 \n",
      " 7   Male_Literate                                    640 non-null    int64 \n",
      " 8   Female_Literate                                  640 non-null    int64 \n",
      " 9   SC                                               640 non-null    int64 \n",
      " 10  Male_SC                                          640 non-null    int64 \n",
      " 11  Female_SC                                        640 non-null    int64 \n",
      " 12  ST                                               640 non-null    int64 \n",
      " 13  Male_ST                                          640 non-null    int64 \n",
      " 14  Female_ST                                        640 non-null    int64 \n",
      " 15  Workers                                          640 non-null    int64 \n",
      " 16  Male_Workers                                     640 non-null    int64 \n",
      " 17  Female_Workers                                   640 non-null    int64 \n",
      " 18  Main_Workers                                     640 non-null    int64 \n",
      " 19  Marginal_Workers                                 640 non-null    int64 \n",
      " 20  Non_Workers                                      640 non-null    int64 \n",
      " 21  Cultivator_Workers                               640 non-null    int64 \n",
      " 22  Agricultural_Workers                             640 non-null    int64 \n",
      " 23  Household_Workers                                640 non-null    int64 \n",
      " 24  Other_Workers                                    640 non-null    int64 \n",
      " 25  Hindus                                           640 non-null    int64 \n",
      " 26  Muslims                                          640 non-null    int64 \n",
      " 27  Christians                                       640 non-null    int64 \n",
      " 28  Sikhs                                            640 non-null    int64 \n",
      " 29  Buddhists                                        640 non-null    int64 \n",
      " 30  Jains                                            640 non-null    int64 \n",
      " 31  Others_Religions                                 640 non-null    int64 \n",
      " 32  Religion_Not_Stated                              640 non-null    int64 \n",
      " 33  LPG_or_PNG_Households                            640 non-null    int64 \n",
      " 34  Housholds_with_Electric_Lighting                 640 non-null    int64 \n",
      " 35  Households_with_Internet                         640 non-null    int64 \n",
      " 36  Households_with_Computer                         640 non-null    int64 \n",
      " 37  Rural_Households                                 640 non-null    int64 \n",
      " 38  Urban_Households                                 640 non-null    int64 \n",
      " 39  Households                                       640 non-null    int64 \n",
      " 40  Below_Primary_Education                          640 non-null    int64 \n",
      " 41  Primary_Education                                640 non-null    int64 \n",
      " 42  Middle_Education                                 640 non-null    int64 \n",
      " 43  Secondary_Education                              640 non-null    int64 \n",
      " 44  Higher_Education                                 640 non-null    int64 \n",
      " 45  Graduate_Education                               640 non-null    int64 \n",
      " 46  Other_Education                                  640 non-null    int64 \n",
      " 47  Literate_Education                               640 non-null    int64 \n",
      " 48  Illiterate_Education                             640 non-null    int64 \n",
      " 49  Total_Education                                  640 non-null    int64 \n",
      " 50  Age_Group_0_29                                   640 non-null    int64 \n",
      " 51  Age_Group_30_49                                  640 non-null    int64 \n",
      " 52  Age_Group_50                                     640 non-null    int64 \n",
      " 53  Age_not_stated                                   640 non-null    int64 \n",
      " 54  District_code                                    640 non-null    int64 \n",
      " 55  State_name                                       640 non-null    object\n",
      " 56  District_name                                    640 non-null    object\n",
      " 57  Type_of_bathing_facility_Enclosure_without_roof  640 non-null    int64 \n",
      " 58  Not_having_bathing_facility_within_the_premises  640 non-null    int64 \n",
      " 59  Not_having_latrine_facility_within_the_premises  640 non-null    int64 \n",
      " 60  Main_source_of_drinking_water_Un_covered_well    640 non-null    int64 \n",
      "dtypes: int64(57), object(4)\n",
      "memory usage: 305.1+ KB\n"
     ]
    }
   ],
   "source": [
    "df.info()"
   ]
  },
  {
   "cell_type": "code",
   "execution_count": 10,
   "id": "9443aac0",
   "metadata": {},
   "outputs": [
    {
     "data": {
      "text/html": [
       "<div>\n",
       "<style scoped>\n",
       "    .dataframe tbody tr th:only-of-type {\n",
       "        vertical-align: middle;\n",
       "    }\n",
       "\n",
       "    .dataframe tbody tr th {\n",
       "        vertical-align: top;\n",
       "    }\n",
       "\n",
       "    .dataframe thead th {\n",
       "        text-align: right;\n",
       "    }\n",
       "</style>\n",
       "<table border=\"1\" class=\"dataframe\">\n",
       "  <thead>\n",
       "    <tr style=\"text-align: right;\">\n",
       "      <th></th>\n",
       "      <th>District_code</th>\n",
       "      <th>Population</th>\n",
       "      <th>Male</th>\n",
       "      <th>Female</th>\n",
       "      <th>Literate</th>\n",
       "      <th>Male_Literate</th>\n",
       "      <th>Female_Literate</th>\n",
       "      <th>SC</th>\n",
       "      <th>Male_SC</th>\n",
       "      <th>Female_SC</th>\n",
       "      <th>...</th>\n",
       "      <th>Total_Education</th>\n",
       "      <th>Age_Group_0_29</th>\n",
       "      <th>Age_Group_30_49</th>\n",
       "      <th>Age_Group_50</th>\n",
       "      <th>Age_not_stated</th>\n",
       "      <th>District_code</th>\n",
       "      <th>Type_of_bathing_facility_Enclosure_without_roof</th>\n",
       "      <th>Not_having_bathing_facility_within_the_premises</th>\n",
       "      <th>Not_having_latrine_facility_within_the_premises</th>\n",
       "      <th>Main_source_of_drinking_water_Un_covered_well</th>\n",
       "    </tr>\n",
       "  </thead>\n",
       "  <tbody>\n",
       "    <tr>\n",
       "      <th>count</th>\n",
       "      <td>640.000000</td>\n",
       "      <td>6.400000e+02</td>\n",
       "      <td>6.400000e+02</td>\n",
       "      <td>6.400000e+02</td>\n",
       "      <td>6.400000e+02</td>\n",
       "      <td>6.400000e+02</td>\n",
       "      <td>6.400000e+02</td>\n",
       "      <td>6.400000e+02</td>\n",
       "      <td>6.400000e+02</td>\n",
       "      <td>6.400000e+02</td>\n",
       "      <td>...</td>\n",
       "      <td>6.400000e+02</td>\n",
       "      <td>6.400000e+02</td>\n",
       "      <td>6.400000e+02</td>\n",
       "      <td>6.400000e+02</td>\n",
       "      <td>640.000000</td>\n",
       "      <td>640.000000</td>\n",
       "      <td>640.000000</td>\n",
       "      <td>6.400000e+02</td>\n",
       "      <td>640.000000</td>\n",
       "      <td>640.000000</td>\n",
       "    </tr>\n",
       "    <tr>\n",
       "      <th>mean</th>\n",
       "      <td>320.500000</td>\n",
       "      <td>1.891961e+06</td>\n",
       "      <td>9.738598e+05</td>\n",
       "      <td>9.181011e+05</td>\n",
       "      <td>1.193186e+06</td>\n",
       "      <td>6.793182e+05</td>\n",
       "      <td>5.138675e+05</td>\n",
       "      <td>3.146537e+05</td>\n",
       "      <td>1.617739e+05</td>\n",
       "      <td>1.528798e+05</td>\n",
       "      <td>...</td>\n",
       "      <td>1.853838e+06</td>\n",
       "      <td>1.102826e+06</td>\n",
       "      <td>4.820189e+05</td>\n",
       "      <td>3.001005e+05</td>\n",
       "      <td>7015.315625</td>\n",
       "      <td>320.500000</td>\n",
       "      <td>63200.296875</td>\n",
       "      <td>1.602574e+05</td>\n",
       "      <td>192121.109375</td>\n",
       "      <td>36390.417188</td>\n",
       "    </tr>\n",
       "    <tr>\n",
       "      <th>std</th>\n",
       "      <td>184.896367</td>\n",
       "      <td>1.544380e+06</td>\n",
       "      <td>8.007785e+05</td>\n",
       "      <td>7.449864e+05</td>\n",
       "      <td>1.068583e+06</td>\n",
       "      <td>5.924144e+05</td>\n",
       "      <td>4.801816e+05</td>\n",
       "      <td>3.129818e+05</td>\n",
       "      <td>1.611216e+05</td>\n",
       "      <td>1.520336e+05</td>\n",
       "      <td>...</td>\n",
       "      <td>1.511039e+06</td>\n",
       "      <td>8.887434e+05</td>\n",
       "      <td>4.183230e+05</td>\n",
       "      <td>2.549556e+05</td>\n",
       "      <td>15053.222449</td>\n",
       "      <td>184.896367</td>\n",
       "      <td>62473.808433</td>\n",
       "      <td>1.632040e+05</td>\n",
       "      <td>165430.739633</td>\n",
       "      <td>58222.431750</td>\n",
       "    </tr>\n",
       "    <tr>\n",
       "      <th>min</th>\n",
       "      <td>1.000000</td>\n",
       "      <td>8.004000e+03</td>\n",
       "      <td>4.414000e+03</td>\n",
       "      <td>3.590000e+03</td>\n",
       "      <td>4.436000e+03</td>\n",
       "      <td>2.614000e+03</td>\n",
       "      <td>1.822000e+03</td>\n",
       "      <td>0.000000e+00</td>\n",
       "      <td>0.000000e+00</td>\n",
       "      <td>0.000000e+00</td>\n",
       "      <td>...</td>\n",
       "      <td>7.111000e+03</td>\n",
       "      <td>5.113000e+03</td>\n",
       "      <td>2.088000e+03</td>\n",
       "      <td>7.860000e+02</td>\n",
       "      <td>16.000000</td>\n",
       "      <td>1.000000</td>\n",
       "      <td>48.000000</td>\n",
       "      <td>9.200000e+01</td>\n",
       "      <td>46.000000</td>\n",
       "      <td>1.000000</td>\n",
       "    </tr>\n",
       "    <tr>\n",
       "      <th>25%</th>\n",
       "      <td>160.750000</td>\n",
       "      <td>8.178610e+05</td>\n",
       "      <td>4.171682e+05</td>\n",
       "      <td>4.017458e+05</td>\n",
       "      <td>4.825982e+05</td>\n",
       "      <td>2.764365e+05</td>\n",
       "      <td>2.008920e+05</td>\n",
       "      <td>8.320850e+04</td>\n",
       "      <td>4.230700e+04</td>\n",
       "      <td>4.267175e+04</td>\n",
       "      <td>...</td>\n",
       "      <td>7.956865e+05</td>\n",
       "      <td>4.786540e+05</td>\n",
       "      <td>2.101965e+05</td>\n",
       "      <td>1.193285e+05</td>\n",
       "      <td>664.250000</td>\n",
       "      <td>160.750000</td>\n",
       "      <td>12777.250000</td>\n",
       "      <td>4.345500e+04</td>\n",
       "      <td>46313.250000</td>\n",
       "      <td>1819.750000</td>\n",
       "    </tr>\n",
       "    <tr>\n",
       "      <th>50%</th>\n",
       "      <td>320.500000</td>\n",
       "      <td>1.557367e+06</td>\n",
       "      <td>7.986815e+05</td>\n",
       "      <td>7.589200e+05</td>\n",
       "      <td>9.573465e+05</td>\n",
       "      <td>5.483525e+05</td>\n",
       "      <td>4.038590e+05</td>\n",
       "      <td>2.460160e+05</td>\n",
       "      <td>1.255485e+05</td>\n",
       "      <td>1.178550e+05</td>\n",
       "      <td>...</td>\n",
       "      <td>1.518162e+06</td>\n",
       "      <td>8.896820e+05</td>\n",
       "      <td>3.905085e+05</td>\n",
       "      <td>2.421020e+05</td>\n",
       "      <td>1735.000000</td>\n",
       "      <td>320.500000</td>\n",
       "      <td>42892.000000</td>\n",
       "      <td>1.197140e+05</td>\n",
       "      <td>167940.000000</td>\n",
       "      <td>12868.000000</td>\n",
       "    </tr>\n",
       "    <tr>\n",
       "      <th>75%</th>\n",
       "      <td>480.250000</td>\n",
       "      <td>2.583551e+06</td>\n",
       "      <td>1.338604e+06</td>\n",
       "      <td>1.264277e+06</td>\n",
       "      <td>1.602260e+06</td>\n",
       "      <td>9.188582e+05</td>\n",
       "      <td>6.641550e+05</td>\n",
       "      <td>4.477078e+05</td>\n",
       "      <td>2.284602e+05</td>\n",
       "      <td>2.140502e+05</td>\n",
       "      <td>...</td>\n",
       "      <td>2.556385e+06</td>\n",
       "      <td>1.491204e+06</td>\n",
       "      <td>6.525142e+05</td>\n",
       "      <td>4.045875e+05</td>\n",
       "      <td>5549.250000</td>\n",
       "      <td>480.250000</td>\n",
       "      <td>95405.750000</td>\n",
       "      <td>2.174202e+05</td>\n",
       "      <td>284883.500000</td>\n",
       "      <td>46999.000000</td>\n",
       "    </tr>\n",
       "    <tr>\n",
       "      <th>max</th>\n",
       "      <td>640.000000</td>\n",
       "      <td>1.106015e+07</td>\n",
       "      <td>5.865078e+06</td>\n",
       "      <td>5.195070e+06</td>\n",
       "      <td>8.227161e+06</td>\n",
       "      <td>4.591396e+06</td>\n",
       "      <td>3.635765e+06</td>\n",
       "      <td>2.464032e+06</td>\n",
       "      <td>1.266504e+06</td>\n",
       "      <td>1.197528e+06</td>\n",
       "      <td>...</td>\n",
       "      <td>1.019012e+07</td>\n",
       "      <td>6.184519e+06</td>\n",
       "      <td>3.241888e+06</td>\n",
       "      <td>1.921143e+06</td>\n",
       "      <td>135852.000000</td>\n",
       "      <td>640.000000</td>\n",
       "      <td>289405.000000</td>\n",
       "      <td>1.363655e+06</td>\n",
       "      <td>916194.000000</td>\n",
       "      <td>508118.000000</td>\n",
       "    </tr>\n",
       "  </tbody>\n",
       "</table>\n",
       "<p>8 rows × 57 columns</p>\n",
       "</div>"
      ],
      "text/plain": [
       "       District_code    Population          Male        Female      Literate  \\\n",
       "count     640.000000  6.400000e+02  6.400000e+02  6.400000e+02  6.400000e+02   \n",
       "mean      320.500000  1.891961e+06  9.738598e+05  9.181011e+05  1.193186e+06   \n",
       "std       184.896367  1.544380e+06  8.007785e+05  7.449864e+05  1.068583e+06   \n",
       "min         1.000000  8.004000e+03  4.414000e+03  3.590000e+03  4.436000e+03   \n",
       "25%       160.750000  8.178610e+05  4.171682e+05  4.017458e+05  4.825982e+05   \n",
       "50%       320.500000  1.557367e+06  7.986815e+05  7.589200e+05  9.573465e+05   \n",
       "75%       480.250000  2.583551e+06  1.338604e+06  1.264277e+06  1.602260e+06   \n",
       "max       640.000000  1.106015e+07  5.865078e+06  5.195070e+06  8.227161e+06   \n",
       "\n",
       "       Male_Literate  Female_Literate            SC       Male_SC  \\\n",
       "count   6.400000e+02     6.400000e+02  6.400000e+02  6.400000e+02   \n",
       "mean    6.793182e+05     5.138675e+05  3.146537e+05  1.617739e+05   \n",
       "std     5.924144e+05     4.801816e+05  3.129818e+05  1.611216e+05   \n",
       "min     2.614000e+03     1.822000e+03  0.000000e+00  0.000000e+00   \n",
       "25%     2.764365e+05     2.008920e+05  8.320850e+04  4.230700e+04   \n",
       "50%     5.483525e+05     4.038590e+05  2.460160e+05  1.255485e+05   \n",
       "75%     9.188582e+05     6.641550e+05  4.477078e+05  2.284602e+05   \n",
       "max     4.591396e+06     3.635765e+06  2.464032e+06  1.266504e+06   \n",
       "\n",
       "          Female_SC  ...  Total_Education  Age_Group_0_29  Age_Group_30_49  \\\n",
       "count  6.400000e+02  ...     6.400000e+02    6.400000e+02     6.400000e+02   \n",
       "mean   1.528798e+05  ...     1.853838e+06    1.102826e+06     4.820189e+05   \n",
       "std    1.520336e+05  ...     1.511039e+06    8.887434e+05     4.183230e+05   \n",
       "min    0.000000e+00  ...     7.111000e+03    5.113000e+03     2.088000e+03   \n",
       "25%    4.267175e+04  ...     7.956865e+05    4.786540e+05     2.101965e+05   \n",
       "50%    1.178550e+05  ...     1.518162e+06    8.896820e+05     3.905085e+05   \n",
       "75%    2.140502e+05  ...     2.556385e+06    1.491204e+06     6.525142e+05   \n",
       "max    1.197528e+06  ...     1.019012e+07    6.184519e+06     3.241888e+06   \n",
       "\n",
       "       Age_Group_50  Age_not_stated  District_code  \\\n",
       "count  6.400000e+02      640.000000     640.000000   \n",
       "mean   3.001005e+05     7015.315625     320.500000   \n",
       "std    2.549556e+05    15053.222449     184.896367   \n",
       "min    7.860000e+02       16.000000       1.000000   \n",
       "25%    1.193285e+05      664.250000     160.750000   \n",
       "50%    2.421020e+05     1735.000000     320.500000   \n",
       "75%    4.045875e+05     5549.250000     480.250000   \n",
       "max    1.921143e+06   135852.000000     640.000000   \n",
       "\n",
       "       Type_of_bathing_facility_Enclosure_without_roof  \\\n",
       "count                                       640.000000   \n",
       "mean                                      63200.296875   \n",
       "std                                       62473.808433   \n",
       "min                                          48.000000   \n",
       "25%                                       12777.250000   \n",
       "50%                                       42892.000000   \n",
       "75%                                       95405.750000   \n",
       "max                                      289405.000000   \n",
       "\n",
       "       Not_having_bathing_facility_within_the_premises  \\\n",
       "count                                     6.400000e+02   \n",
       "mean                                      1.602574e+05   \n",
       "std                                       1.632040e+05   \n",
       "min                                       9.200000e+01   \n",
       "25%                                       4.345500e+04   \n",
       "50%                                       1.197140e+05   \n",
       "75%                                       2.174202e+05   \n",
       "max                                       1.363655e+06   \n",
       "\n",
       "       Not_having_latrine_facility_within_the_premises  \\\n",
       "count                                       640.000000   \n",
       "mean                                     192121.109375   \n",
       "std                                      165430.739633   \n",
       "min                                          46.000000   \n",
       "25%                                       46313.250000   \n",
       "50%                                      167940.000000   \n",
       "75%                                      284883.500000   \n",
       "max                                      916194.000000   \n",
       "\n",
       "       Main_source_of_drinking_water_Un_covered_well  \n",
       "count                                     640.000000  \n",
       "mean                                    36390.417188  \n",
       "std                                     58222.431750  \n",
       "min                                         1.000000  \n",
       "25%                                      1819.750000  \n",
       "50%                                     12868.000000  \n",
       "75%                                     46999.000000  \n",
       "max                                    508118.000000  \n",
       "\n",
       "[8 rows x 57 columns]"
      ]
     },
     "execution_count": 10,
     "metadata": {},
     "output_type": "execute_result"
    }
   ],
   "source": [
    "df.describe()"
   ]
  },
  {
   "cell_type": "markdown",
   "id": "c5a10419",
   "metadata": {},
   "source": [
    "# Checking if any Columns have null value in it or not"
   ]
  },
  {
   "cell_type": "code",
   "execution_count": 11,
   "id": "18c82697",
   "metadata": {},
   "outputs": [
    {
     "data": {
      "text/plain": [
       "District_code                                      True\n",
       "State_name                                         True\n",
       "District_name                                      True\n",
       "Population                                         True\n",
       "Male                                               True\n",
       "                                                   ... \n",
       "District_name                                      True\n",
       "Type_of_bathing_facility_Enclosure_without_roof    True\n",
       "Not_having_bathing_facility_within_the_premises    True\n",
       "Not_having_latrine_facility_within_the_premises    True\n",
       "Main_source_of_drinking_water_Un_covered_well      True\n",
       "Length: 61, dtype: bool"
      ]
     },
     "execution_count": 11,
     "metadata": {},
     "output_type": "execute_result"
    }
   ],
   "source": [
    "df.isnull().sum()==0"
   ]
  },
  {
   "cell_type": "markdown",
   "id": "2f6cb945",
   "metadata": {},
   "source": [
    "Since all are 0 thus no column has null values"
   ]
  },
  {
   "cell_type": "markdown",
   "id": "a7717c68",
   "metadata": {},
   "source": [
    "# Total Population"
   ]
  },
  {
   "cell_type": "code",
   "execution_count": 12,
   "id": "eee2e7b3",
   "metadata": {},
   "outputs": [
    {
     "data": {
      "text/plain": [
       "1210854977"
      ]
     },
     "execution_count": 12,
     "metadata": {},
     "output_type": "execute_result"
    }
   ],
   "source": [
    "df['Population'].sum()"
   ]
  },
  {
   "cell_type": "markdown",
   "id": "548f7eab",
   "metadata": {},
   "source": [
    "# Pie Chart for Male v/s Female Population"
   ]
  },
  {
   "cell_type": "code",
   "execution_count": 13,
   "id": "09d7ba96",
   "metadata": {},
   "outputs": [
    {
     "data": {
      "text/plain": [
       "(-1.1134881275574597,\n",
       " 1.1006423422272433,\n",
       " -1.1166226006555118,\n",
       " 1.2108741481208387)"
      ]
     },
     "execution_count": 13,
     "metadata": {},
     "output_type": "execute_result"
    },
    {
     "data": {
      "image/png": "[encoded data removed]",
      "text/plain": [
       "<Figure size 432x288 with 1 Axes>"
      ]
     },
     "metadata": {},
     "output_type": "display_data"
    }
   ],
   "source": [
    "Total_Male=df['Male'].sum()\n",
    "Total_Female=df['Female'].sum()\n",
    "Population_array=[Total_Male,Total_Female]\n",
    "labels = ['Total Male Popluation', 'Total Female Popluation']\n",
    "colors = ['lightskyblue','lightcoral']\n",
    "explode = (0.1, 0) \n",
    "# Plot\n",
    "plt.pie(Population_array, explode=explode, colors=colors, labels=labels,\n",
    "autopct='%1.1f%%', shadow=True)\n",
    "plt.axis('equal')\n"
   ]
  },
  {
   "cell_type": "markdown",
   "id": "455360af",
   "metadata": {},
   "source": [
    "# Male Literates vs Female Literates Trend"
   ]
  },
  {
   "cell_type": "code",
   "execution_count": 14,
   "id": "a0ba525a",
   "metadata": {},
   "outputs": [
    {
     "data": {
      "text/plain": [
       "Text(0.5, 1.0, 'Male Literates vs Female Literates Trend')"
      ]
     },
     "execution_count": 14,
     "metadata": {},
     "output_type": "execute_result"
    },
    {
     "data": {
      "image/png": "[encoded data removed]",
      "text/plain": [
       "<Figure size 432x288 with 1 Axes>"
      ]
     },
     "metadata": {
      "needs_background": "light"
     },
     "output_type": "display_data"
    }
   ],
   "source": [
    "Male_Literate=df['Male_Literate'].head(12)\n",
    "Female_Literate=df['Female_Literate'].head(12)\n",
    "plt.scatter(np.array(Male_Literate),np.array(Female_Literate))\n",
    "plt.xlabel(\"Male Literates Trend\")\n",
    "plt.ylabel(\"Female Literates Trend\")\n",
    "plt.title(\"Male Literates vs Female Literates Trend\")"
   ]
  },
  {
   "cell_type": "markdown",
   "id": "4e3fcee7",
   "metadata": {},
   "source": [
    "# Boxplots"
   ]
  },
  {
   "cell_type": "code",
   "execution_count": 15,
   "id": "16c0c049",
   "metadata": {},
   "outputs": [
    {
     "data": {
      "text/plain": [
       "Text(0.5, 1.0, 'Toatal Poplation Boxplot')"
      ]
     },
     "execution_count": 15,
     "metadata": {},
     "output_type": "execute_result"
    },
    {
     "data": {
      "image/png": "[encoded data removed]",
      "text/plain": [
       "<Figure size 432x288 with 1 Axes>"
      ]
     },
     "metadata": {
      "needs_background": "light"
     },
     "output_type": "display_data"
    }
   ],
   "source": [
    "Population=df['Population']\n",
    "Male_Population=df['Male']\n",
    "Female_Population=df['Female']\n",
    "plt.subplot(2,2,1)\n",
    "plt.boxplot(Population,vert=False,patch_artist=True)\n",
    "plt.title(\"Toatal Poplation Boxplot\")"
   ]
  },
  {
   "cell_type": "markdown",
   "id": "60eb9210",
   "metadata": {},
   "source": [
    "Conclusion:There are some Districts having Total Population above 50 Lakhs which are outliers"
   ]
  },
  {
   "cell_type": "code",
   "execution_count": 16,
   "id": "3a9337f4",
   "metadata": {},
   "outputs": [
    {
     "data": {
      "text/plain": [
       "Text(0.5, 1.0, 'Female Poplation Boxplot')"
      ]
     },
     "execution_count": 16,
     "metadata": {},
     "output_type": "execute_result"
    },
    {
     "data": {
      "image/png": "[encoded data removed]",
      "text/plain": [
       "<Figure size 432x288 with 2 Axes>"
      ]
     },
     "metadata": {
      "needs_background": "light"
     },
     "output_type": "display_data"
    }
   ],
   "source": [
    "plt.subplot(2,2,1)\n",
    "plt.boxplot(Male_Population,vert=False,patch_artist=True)\n",
    "plt.title(\"Male Poplation Boxplot\")\n",
    "plt.subplot(2,2,2)\n",
    "plt.boxplot(Female_Population,vert=False,patch_artist=True)\n",
    "plt.title(\"Female Poplation Boxplot\")"
   ]
  },
  {
   "cell_type": "markdown",
   "id": "8fcdcc0d",
   "metadata": {},
   "source": [
    "Conclusion:There are some Districts having Male Population even 60 Lakhs \n",
    "but, Female population is not maximum to 60 Lakhs as males"
   ]
  },
  {
   "cell_type": "code",
   "execution_count": null,
   "id": "80274d4d",
   "metadata": {},
   "outputs": [],
   "source": []
  }
 ],
 "metadata": {
  "kernelspec": {
   "display_name": "Python 3 (ipykernel)",
   "language": "python",
   "name": "python3"
  },
  "language_info": {
   "codemirror_mode": {
    "name": "ipython",
    "version": 3
   },
   "file_extension": ".py",
   "mimetype": "text/x-python",
   "name": "python",
   "nbconvert_exporter": "python",
   "pygments_lexer": "ipython3",
   "version": "3.9.12"
  }
 },
 "nbformat": 4,
 "nbformat_minor": 5
}
